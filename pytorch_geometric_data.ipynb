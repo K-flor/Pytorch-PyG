{
  "nbformat": 4,
  "nbformat_minor": 0,
  "metadata": {
    "colab": {
      "name": "pytorch_geometric_data.ipynb",
      "provenance": [],
      "collapsed_sections": []
    },
    "kernelspec": {
      "name": "python3",
      "display_name": "Python 3"
    },
    "language_info": {
      "name": "python"
    }
  },
  "cells": [
    {
      "cell_type": "markdown",
      "metadata": {
        "id": "c3bzE1tlafK-"
      },
      "source": [
        "\n",
        "# Installation\n"
      ]
    },
    {
      "cell_type": "code",
      "metadata": {
        "colab": {
          "base_uri": "https://localhost:8080/"
        },
        "id": "9acF1LCJLg-u",
        "outputId": "8e0ed445-89e9-4333-c072-4971c23bad4f"
      },
      "source": [
        "import torch\n",
        "print(torch.__version__)"
      ],
      "execution_count": 3,
      "outputs": [
        {
          "output_type": "stream",
          "name": "stdout",
          "text": [
            "1.9.0+cu111\n"
          ]
        }
      ]
    },
    {
      "cell_type": "code",
      "metadata": {
        "colab": {
          "base_uri": "https://localhost:8080/"
        },
        "id": "ZHpeLIF1LY0m",
        "outputId": "d91ec613-81cb-42c4-c56a-663c93812d72"
      },
      "source": [
        "!pip install torch-scatter torch-sparse torch-cluster torch-spline-conv torch-geometric -f https://data.pyg.org/whl/torch-1.9.0+cu111.html"
      ],
      "execution_count": 4,
      "outputs": [
        {
          "output_type": "stream",
          "name": "stdout",
          "text": [
            "Looking in links: https://data.pyg.org/whl/torch-1.9.0+cu111.html\n",
            "Collecting torch-scatter\n",
            "  Downloading https://data.pyg.org/whl/torch-1.9.0%2Bcu111/torch_scatter-2.0.8-cp37-cp37m-linux_x86_64.whl (10.4 MB)\n",
            "\u001b[K     |████████████████████████████████| 10.4 MB 2.0 MB/s \n",
            "\u001b[?25hCollecting torch-sparse\n",
            "  Downloading https://data.pyg.org/whl/torch-1.9.0%2Bcu111/torch_sparse-0.6.12-cp37-cp37m-linux_x86_64.whl (3.7 MB)\n",
            "\u001b[K     |████████████████████████████████| 3.7 MB 41.1 MB/s \n",
            "\u001b[?25hCollecting torch-cluster\n",
            "  Downloading https://data.pyg.org/whl/torch-1.9.0%2Bcu111/torch_cluster-1.5.9-cp37-cp37m-linux_x86_64.whl (1.6 MB)\n",
            "\u001b[K     |████████████████████████████████| 1.6 MB 45.6 MB/s \n",
            "\u001b[?25hCollecting torch-spline-conv\n",
            "  Downloading https://data.pyg.org/whl/torch-1.9.0%2Bcu111/torch_spline_conv-1.2.1-cp37-cp37m-linux_x86_64.whl (870 kB)\n",
            "\u001b[K     |████████████████████████████████| 870 kB 28.8 MB/s \n",
            "\u001b[?25hCollecting torch-geometric\n",
            "  Downloading torch_geometric-2.0.1.tar.gz (308 kB)\n",
            "\u001b[K     |████████████████████████████████| 308 kB 5.1 MB/s \n",
            "\u001b[?25hRequirement already satisfied: scipy in /usr/local/lib/python3.7/dist-packages (from torch-sparse) (1.4.1)\n",
            "Requirement already satisfied: numpy in /usr/local/lib/python3.7/dist-packages (from torch-geometric) (1.19.5)\n",
            "Requirement already satisfied: tqdm in /usr/local/lib/python3.7/dist-packages (from torch-geometric) (4.62.3)\n",
            "Requirement already satisfied: networkx in /usr/local/lib/python3.7/dist-packages (from torch-geometric) (2.6.3)\n",
            "Requirement already satisfied: scikit-learn in /usr/local/lib/python3.7/dist-packages (from torch-geometric) (0.22.2.post1)\n",
            "Requirement already satisfied: requests in /usr/local/lib/python3.7/dist-packages (from torch-geometric) (2.23.0)\n",
            "Requirement already satisfied: pandas in /usr/local/lib/python3.7/dist-packages (from torch-geometric) (1.1.5)\n",
            "Collecting rdflib\n",
            "  Downloading rdflib-6.0.2-py3-none-any.whl (407 kB)\n",
            "\u001b[K     |████████████████████████████████| 407 kB 40.9 MB/s \n",
            "\u001b[?25hRequirement already satisfied: googledrivedownloader in /usr/local/lib/python3.7/dist-packages (from torch-geometric) (0.4)\n",
            "Requirement already satisfied: jinja2 in /usr/local/lib/python3.7/dist-packages (from torch-geometric) (2.11.3)\n",
            "Requirement already satisfied: pyparsing in /usr/local/lib/python3.7/dist-packages (from torch-geometric) (2.4.7)\n",
            "Collecting yacs\n",
            "  Downloading yacs-0.1.8-py3-none-any.whl (14 kB)\n",
            "Requirement already satisfied: PyYAML in /usr/local/lib/python3.7/dist-packages (from torch-geometric) (3.13)\n",
            "Requirement already satisfied: MarkupSafe>=0.23 in /usr/local/lib/python3.7/dist-packages (from jinja2->torch-geometric) (2.0.1)\n",
            "Requirement already satisfied: python-dateutil>=2.7.3 in /usr/local/lib/python3.7/dist-packages (from pandas->torch-geometric) (2.8.2)\n",
            "Requirement already satisfied: pytz>=2017.2 in /usr/local/lib/python3.7/dist-packages (from pandas->torch-geometric) (2018.9)\n",
            "Requirement already satisfied: six>=1.5 in /usr/local/lib/python3.7/dist-packages (from python-dateutil>=2.7.3->pandas->torch-geometric) (1.15.0)\n",
            "Collecting isodate\n",
            "  Downloading isodate-0.6.0-py2.py3-none-any.whl (45 kB)\n",
            "\u001b[K     |████████████████████████████████| 45 kB 3.1 MB/s \n",
            "\u001b[?25hRequirement already satisfied: setuptools in /usr/local/lib/python3.7/dist-packages (from rdflib->torch-geometric) (57.4.0)\n",
            "Requirement already satisfied: idna<3,>=2.5 in /usr/local/lib/python3.7/dist-packages (from requests->torch-geometric) (2.10)\n",
            "Requirement already satisfied: urllib3!=1.25.0,!=1.25.1,<1.26,>=1.21.1 in /usr/local/lib/python3.7/dist-packages (from requests->torch-geometric) (1.24.3)\n",
            "Requirement already satisfied: certifi>=2017.4.17 in /usr/local/lib/python3.7/dist-packages (from requests->torch-geometric) (2021.5.30)\n",
            "Requirement already satisfied: chardet<4,>=3.0.2 in /usr/local/lib/python3.7/dist-packages (from requests->torch-geometric) (3.0.4)\n",
            "Requirement already satisfied: joblib>=0.11 in /usr/local/lib/python3.7/dist-packages (from scikit-learn->torch-geometric) (1.0.1)\n",
            "Building wheels for collected packages: torch-geometric\n",
            "  Building wheel for torch-geometric (setup.py) ... \u001b[?25l\u001b[?25hdone\n",
            "  Created wheel for torch-geometric: filename=torch_geometric-2.0.1-py3-none-any.whl size=513822 sha256=457efa5c71aa933a44ac51f02ac8ae0d056292de62e0afb808e6018eb7d78e87\n",
            "  Stored in directory: /root/.cache/pip/wheels/78/3d/42/20589db73c66b5109fb93a0c5743edfd6ab5ca820a52afacfc\n",
            "Successfully built torch-geometric\n",
            "Installing collected packages: isodate, yacs, rdflib, torch-spline-conv, torch-sparse, torch-scatter, torch-geometric, torch-cluster\n",
            "Successfully installed isodate-0.6.0 rdflib-6.0.2 torch-cluster-1.5.9 torch-geometric-2.0.1 torch-scatter-2.0.8 torch-sparse-0.6.12 torch-spline-conv-1.2.1 yacs-0.1.8\n"
          ]
        }
      ]
    },
    {
      "cell_type": "code",
      "metadata": {
        "colab": {
          "base_uri": "https://localhost:8080/"
        },
        "id": "K5LUkZ1Fbifu",
        "outputId": "824ad12d-6455-4099-c3eb-c3b3ac6a1ea2"
      },
      "source": [
        "!pip install tensorboardX"
      ],
      "execution_count": 6,
      "outputs": [
        {
          "output_type": "stream",
          "name": "stdout",
          "text": [
            "Collecting tensorboardX\n",
            "  Downloading tensorboardX-2.4-py2.py3-none-any.whl (124 kB)\n",
            "\u001b[?25l\r\u001b[K     |██▋                             | 10 kB 22.9 MB/s eta 0:00:01\r\u001b[K     |█████▎                          | 20 kB 27.9 MB/s eta 0:00:01\r\u001b[K     |████████                        | 30 kB 12.9 MB/s eta 0:00:01\r\u001b[K     |██████████▌                     | 40 kB 9.6 MB/s eta 0:00:01\r\u001b[K     |█████████████▏                  | 51 kB 5.3 MB/s eta 0:00:01\r\u001b[K     |███████████████▉                | 61 kB 5.8 MB/s eta 0:00:01\r\u001b[K     |██████████████████▍             | 71 kB 5.6 MB/s eta 0:00:01\r\u001b[K     |█████████████████████           | 81 kB 6.3 MB/s eta 0:00:01\r\u001b[K     |███████████████████████▊        | 92 kB 4.7 MB/s eta 0:00:01\r\u001b[K     |██████████████████████████▎     | 102 kB 5.1 MB/s eta 0:00:01\r\u001b[K     |█████████████████████████████   | 112 kB 5.1 MB/s eta 0:00:01\r\u001b[K     |███████████████████████████████▋| 122 kB 5.1 MB/s eta 0:00:01\r\u001b[K     |████████████████████████████████| 124 kB 5.1 MB/s \n",
            "\u001b[?25hRequirement already satisfied: protobuf>=3.8.0 in /usr/local/lib/python3.7/dist-packages (from tensorboardX) (3.17.3)\n",
            "Requirement already satisfied: numpy in /usr/local/lib/python3.7/dist-packages (from tensorboardX) (1.19.5)\n",
            "Requirement already satisfied: six>=1.9 in /usr/local/lib/python3.7/dist-packages (from protobuf>=3.8.0->tensorboardX) (1.15.0)\n",
            "Installing collected packages: tensorboardX\n",
            "Successfully installed tensorboardX-2.4\n"
          ]
        }
      ]
    },
    {
      "cell_type": "markdown",
      "metadata": {
        "id": "FJJy26eRakbe"
      },
      "source": [
        "## Graph Data\n",
        "\n",
        "임의로 생성한 그래프를 torch_geometric.data의 Data 타입으로 생성하기"
      ]
    },
    {
      "cell_type": "markdown",
      "metadata": {
        "id": "ZmKVeu9vMuB8"
      },
      "source": [
        "![mGraph1.png](data:image/png;base64,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)\n",
        "\n",
        "mGraph1      \n",
        "* num_node : 9\n",
        "* num_edge : 12"
      ]
    },
    {
      "cell_type": "code",
      "metadata": {
        "colab": {
          "base_uri": "https://localhost:8080/"
        },
        "id": "GSSChwdeLQjJ",
        "outputId": "e6ffa214-20f7-4077-8f7b-9e37600678ab"
      },
      "source": [
        " import torch\n",
        " from torch_geometric.data import Data\n",
        "\n",
        " edges = [[1,2],[1,3], [1,9], [2,5], [3,4], [3,7], [4,5], [4,8], [5,6], [6,7], [7,8], [8,9]]\n",
        " print(f'edges : {edges}\\n')\n",
        " edge_list = []\n",
        " for e in edges:\n",
        "   e2 = [e[1], e[0]]\n",
        "   edge_list.append(e)\n",
        "   edge_list.append(e2)\n",
        " edge_list = torch.tensor(edge_list, dtype=torch.long)\n",
        "\n",
        " node_feature = [[1, 3], [2, 2], [3,3],[4,3],[5,3],[6,2],[7,3],[8,3],[9,2]]\n",
        " node_feature = torch.tensor(node_feature, dtype=torch.float)\n",
        " print(node_feature,'\\n')\n",
        "\n",
        " g = Data(x=node_feature, edge_index=edge_list.T.contiguous())\n",
        " print(g)"
      ],
      "execution_count": 2,
      "outputs": [
        {
          "output_type": "stream",
          "name": "stdout",
          "text": [
            "edges : [[1, 2], [1, 3], [1, 9], [2, 5], [3, 4], [3, 7], [4, 5], [4, 8], [5, 6], [6, 7], [7, 8], [8, 9]]\n",
            "\n",
            "tensor([[1., 3.],\n",
            "        [2., 2.],\n",
            "        [3., 3.],\n",
            "        [4., 3.],\n",
            "        [5., 3.],\n",
            "        [6., 2.],\n",
            "        [7., 3.],\n",
            "        [8., 3.],\n",
            "        [9., 2.]]) \n",
            "\n",
            "Data(x=[9, 2], edge_index=[2, 24])\n"
          ]
        }
      ]
    },
    {
      "cell_type": "code",
      "metadata": {
        "colab": {
          "base_uri": "https://localhost:8080/"
        },
        "id": "sHouHvfjPZMb",
        "outputId": "76b5c6dc-3a6d-4376-e327-358e99359da0"
      },
      "source": [
        "g.x"
      ],
      "execution_count": 3,
      "outputs": [
        {
          "output_type": "execute_result",
          "data": {
            "text/plain": [
              "tensor([[1., 3.],\n",
              "        [2., 2.],\n",
              "        [3., 3.],\n",
              "        [4., 3.],\n",
              "        [5., 3.],\n",
              "        [6., 2.],\n",
              "        [7., 3.],\n",
              "        [8., 3.],\n",
              "        [9., 2.]])"
            ]
          },
          "metadata": {},
          "execution_count": 3
        }
      ]
    },
    {
      "cell_type": "code",
      "metadata": {
        "colab": {
          "base_uri": "https://localhost:8080/"
        },
        "id": "OeHSjlA6Pk_C",
        "outputId": "25790721-d17d-41ce-8d26-df4d1d258b35"
      },
      "source": [
        "g.edge_index"
      ],
      "execution_count": 4,
      "outputs": [
        {
          "output_type": "execute_result",
          "data": {
            "text/plain": [
              "tensor([[1, 2, 1, 3, 1, 9, 2, 5, 3, 4, 3, 7, 4, 5, 4, 8, 5, 6, 6, 7, 7, 8, 8, 9],\n",
              "        [2, 1, 3, 1, 9, 1, 5, 2, 4, 3, 7, 3, 5, 4, 8, 4, 6, 5, 7, 6, 8, 7, 9, 8]])"
            ]
          },
          "metadata": {},
          "execution_count": 4
        }
      ]
    },
    {
      "cell_type": "code",
      "metadata": {
        "colab": {
          "base_uri": "https://localhost:8080/"
        },
        "id": "jPQsmQl9Pql7",
        "outputId": "53024b0f-1a75-4190-a86e-1550f083d406"
      },
      "source": [
        "g.has_isolated_nodes()"
      ],
      "execution_count": 5,
      "outputs": [
        {
          "output_type": "execute_result",
          "data": {
            "text/plain": [
              "False"
            ]
          },
          "metadata": {},
          "execution_count": 5
        }
      ]
    },
    {
      "cell_type": "markdown",
      "metadata": {
        "id": "9Pf3jlV4abE_"
      },
      "source": [
        "## TUDataSet\n",
        "\n",
        "* a variety of graph kernel benchmark datasets\n",
        "* \"IMDB-BINARY\", \"REDDIT_BINARY\" or \"PROTEINS\" collected from the TU Dortmund University"
      ]
    },
    {
      "cell_type": "code",
      "metadata": {
        "id": "vKQ8sd6Vad1-"
      },
      "source": [
        "from torch_geometric.datasets import TUDataset"
      ],
      "execution_count": 7,
      "outputs": []
    },
    {
      "cell_type": "code",
      "metadata": {
        "colab": {
          "base_uri": "https://localhost:8080/"
        },
        "id": "_8aCFWO1jARS",
        "outputId": "2e438893-554a-4d15-b7d8-68cfd07585e9"
      },
      "source": [
        "tu = TUDataset(root='./tmp/ENZYMES', name='ENZYMES')"
      ],
      "execution_count": 8,
      "outputs": [
        {
          "output_type": "stream",
          "name": "stderr",
          "text": [
            "Downloading https://www.chrsmrrs.com/graphkerneldatasets/ENZYMES.zip\n",
            "Extracting /tmp/ENZYMES/ENZYMES/ENZYMES.zip\n",
            "Processing...\n",
            "Done!\n"
          ]
        }
      ]
    },
    {
      "cell_type": "code",
      "metadata": {
        "colab": {
          "base_uri": "https://localhost:8080/"
        },
        "id": "GCAQ2VuVjE86",
        "outputId": "7bb07d22-717e-4f5d-ffd7-32f6463dc531"
      },
      "source": [
        "print(type(tu))\n",
        "print(dir(tu))"
      ],
      "execution_count": 21,
      "outputs": [
        {
          "output_type": "stream",
          "name": "stdout",
          "text": [
            "<class 'torch_geometric.datasets.tu_dataset.TUDataset'>\n",
            "['__add__', '__class__', '__class_getitem__', '__delattr__', '__dict__', '__dir__', '__doc__', '__eq__', '__format__', '__ge__', '__getattribute__', '__getitem__', '__gt__', '__hash__', '__init__', '__init_subclass__', '__le__', '__len__', '__lt__', '__module__', '__ne__', '__new__', '__orig_bases__', '__parameters__', '__reduce__', '__reduce_ex__', '__repr__', '__setattr__', '__sizeof__', '__slots__', '__str__', '__subclasshook__', '__weakref__', '_data_list', '_download', '_indices', '_process', 'cleaned', 'cleaned_url', 'collate', 'copy', 'data', 'download', 'get', 'index_select', 'indices', 'len', 'name', 'num_classes', 'num_edge_attributes', 'num_edge_features', 'num_edge_labels', 'num_features', 'num_node_attributes', 'num_node_features', 'num_node_labels', 'pre_filter', 'pre_transform', 'process', 'processed_dir', 'processed_file_names', 'processed_paths', 'raw_dir', 'raw_file_names', 'raw_paths', 'root', 'shuffle', 'slices', 'transform', 'url']\n"
          ]
        }
      ]
    },
    {
      "cell_type": "code",
      "metadata": {
        "colab": {
          "base_uri": "https://localhost:8080/"
        },
        "id": "Z5w4j9f6jKR6",
        "outputId": "df7b6d08-e88c-4ca3-9bb9-21feab960867"
      },
      "source": [
        "print(len(tu))\n",
        "print(tu.name)\n",
        "print(f'num_classes = {tu.num_classes}')\n",
        "print(f'num_node_features = {tu.num_node_features}')\n",
        "print(f'num_edge_features = {tu.num_edge_features}')"
      ],
      "execution_count": 17,
      "outputs": [
        {
          "output_type": "stream",
          "name": "stdout",
          "text": [
            "600\n",
            "ENZYMES\n",
            "num_classes = 6\n",
            "num_node_features = 3\n",
            "num_edge_features = 0\n"
          ]
        }
      ]
    },
    {
      "cell_type": "code",
      "metadata": {
        "colab": {
          "base_uri": "https://localhost:8080/"
        },
        "id": "9iGEXeUOkBvE",
        "outputId": "98942470-f78b-4bfa-bf51-2ff5fa38d107"
      },
      "source": [
        "enz101 = tu[101]\n",
        "print(type(enz101))\n",
        "print(dir(enz101),'\\n')\n",
        "\n",
        "print(f\"enz101 key : {enz101.keys}\")\n",
        "print(f'num nodes of enz101 = {enz101.num_nodes}')\n",
        "print(f'num edges of enz101 = {enz101.num_edges}')"
      ],
      "execution_count": 26,
      "outputs": [
        {
          "output_type": "stream",
          "name": "stdout",
          "text": [
            "<class 'torch_geometric.data.data.Data'>\n",
            "['__call__', '__cat_dim__', '__class__', '__contains__', '__copy__', '__deepcopy__', '__delattr__', '__delitem__', '__dict__', '__dir__', '__doc__', '__eq__', '__format__', '__ge__', '__getattr__', '__getattribute__', '__getitem__', '__getstate__', '__gt__', '__hash__', '__inc__', '__init__', '__init_subclass__', '__iter__', '__le__', '__len__', '__lt__', '__module__', '__ne__', '__new__', '__reduce__', '__reduce_ex__', '__repr__', '__setattr__', '__setitem__', '__setstate__', '__sizeof__', '__str__', '__subclasshook__', '__weakref__', '_store', 'apply', 'apply_', 'batch', 'clone', 'coalesce', 'contains_isolated_nodes', 'contains_self_loops', 'contiguous', 'cpu', 'cuda', 'debug', 'detach', 'detach_', 'edge_attr', 'edge_index', 'edge_stores', 'from_dict', 'has_isolated_nodes', 'has_self_loops', 'is_coalesced', 'is_directed', 'is_undirected', 'keys', 'node_stores', 'num_edge_features', 'num_edges', 'num_faces', 'num_features', 'num_node_features', 'num_nodes', 'pin_memory', 'pos', 'record_stream', 'requires_grad_', 'share_memory_', 'size', 'stores', 'stores_as', 'to', 'to_dict', 'to_namedtuple', 'x', 'y'] \n",
            "\n",
            "enz101 key : ['y', 'x', 'edge_index']\n",
            "num nodes of enz101 = 42\n",
            "num edges of enz101 = 164\n"
          ]
        }
      ]
    },
    {
      "cell_type": "code",
      "metadata": {
        "colab": {
          "base_uri": "https://localhost:8080/"
        },
        "id": "t-o_DghAkeoL",
        "outputId": "468a01cc-0722-4237-d379-6366ddc5c0d4"
      },
      "source": [
        "print(enz101.x)"
      ],
      "execution_count": 24,
      "outputs": [
        {
          "output_type": "stream",
          "name": "stdout",
          "text": [
            "tensor([[1., 0., 0.],\n",
            "        [1., 0., 0.],\n",
            "        [1., 0., 0.],\n",
            "        [1., 0., 0.],\n",
            "        [1., 0., 0.],\n",
            "        [1., 0., 0.],\n",
            "        [1., 0., 0.],\n",
            "        [1., 0., 0.],\n",
            "        [1., 0., 0.],\n",
            "        [1., 0., 0.],\n",
            "        [1., 0., 0.],\n",
            "        [1., 0., 0.],\n",
            "        [1., 0., 0.],\n",
            "        [1., 0., 0.],\n",
            "        [1., 0., 0.],\n",
            "        [1., 0., 0.],\n",
            "        [1., 0., 0.],\n",
            "        [1., 0., 0.],\n",
            "        [1., 0., 0.],\n",
            "        [1., 0., 0.],\n",
            "        [1., 0., 0.],\n",
            "        [1., 0., 0.],\n",
            "        [1., 0., 0.],\n",
            "        [1., 0., 0.],\n",
            "        [1., 0., 0.],\n",
            "        [1., 0., 0.],\n",
            "        [0., 1., 0.],\n",
            "        [0., 1., 0.],\n",
            "        [0., 1., 0.],\n",
            "        [0., 1., 0.],\n",
            "        [0., 1., 0.],\n",
            "        [0., 1., 0.],\n",
            "        [0., 1., 0.],\n",
            "        [0., 1., 0.],\n",
            "        [0., 1., 0.],\n",
            "        [0., 1., 0.],\n",
            "        [0., 1., 0.],\n",
            "        [0., 1., 0.],\n",
            "        [0., 1., 0.],\n",
            "        [0., 1., 0.],\n",
            "        [0., 1., 0.],\n",
            "        [0., 1., 0.]])\n"
          ]
        }
      ]
    },
    {
      "cell_type": "code",
      "metadata": {
        "colab": {
          "base_uri": "https://localhost:8080/"
        },
        "id": "RQ3mBF_Fk8qz",
        "outputId": "65bd0eba-cb3e-453f-cc7b-120b1ea01e9d"
      },
      "source": [
        "print(enz101.y)"
      ],
      "execution_count": 28,
      "outputs": [
        {
          "output_type": "stream",
          "name": "stdout",
          "text": [
            "tensor([4])\n"
          ]
        }
      ]
    },
    {
      "cell_type": "code",
      "metadata": {
        "colab": {
          "base_uri": "https://localhost:8080/"
        },
        "id": "B9gQ-e1xlCeZ",
        "outputId": "221227ed-baa3-4c96-f7a7-3ac52041d404"
      },
      "source": [
        "print(enz101.edge_index)"
      ],
      "execution_count": 29,
      "outputs": [
        {
          "output_type": "stream",
          "name": "stdout",
          "text": [
            "tensor([[ 0,  0,  0,  1,  1,  1,  1,  2,  2,  2,  2,  3,  3,  3,  4,  4,  4,  4,\n",
            "          5,  5,  5,  5,  6,  6,  6,  6,  7,  7,  7,  7,  7,  7,  8,  8,  8,  9,\n",
            "          9,  9,  9,  9, 10, 10, 10, 10, 11, 11, 11, 11, 12, 12, 12, 13, 13, 13,\n",
            "         14, 14, 14, 14, 14, 15, 15, 15, 15, 16, 16, 16, 17, 17, 17, 17, 17, 18,\n",
            "         18, 18, 18, 19, 19, 19, 20, 20, 20, 21, 21, 21, 21, 22, 22, 22, 23, 23,\n",
            "         23, 23, 23, 23, 24, 24, 24, 24, 25, 25, 25, 26, 26, 26, 26, 27, 27, 27,\n",
            "         27, 27, 28, 28, 28, 29, 29, 29, 29, 30, 30, 30, 31, 31, 31, 32, 32, 32,\n",
            "         32, 33, 33, 33, 33, 34, 34, 34, 35, 35, 35, 35, 35, 36, 36, 36, 36, 37,\n",
            "         37, 37, 37, 37, 38, 38, 38, 38, 39, 39, 39, 39, 40, 40, 40, 40, 41, 41,\n",
            "         41, 41],\n",
            "        [ 1, 26, 34,  0,  2, 15, 26,  1, 14, 33, 41, 32, 33, 40, 31, 32, 39, 40,\n",
            "         30, 31, 38, 39,  7, 18, 20, 30,  6, 19, 29, 30, 37, 38,  9, 29, 37,  8,\n",
            "         28, 29, 36, 37, 11, 27, 28, 36, 10, 12, 27, 35, 11, 27, 35, 14, 26, 34,\n",
            "          2, 13, 15, 26, 34,  1, 14, 33, 41, 32, 40, 41, 18, 31, 32, 39, 40,  6,\n",
            "         17, 38, 39,  7, 20, 38,  6, 19, 37, 22, 23, 29, 37, 21, 23, 36, 21, 22,\n",
            "         24, 28, 35, 36, 23, 25, 27, 35, 24, 27, 35,  0,  1, 13, 14, 10, 11, 12,\n",
            "         24, 25,  9, 10, 23,  7,  8,  9, 21,  5,  6,  7,  4,  5, 17,  3,  4, 16,\n",
            "         17,  2,  3, 15, 41,  0, 13, 14, 11, 12, 23, 24, 25,  9, 10, 22, 23,  7,\n",
            "          8,  9, 20, 21,  5,  7, 18, 19,  4,  5, 17, 18,  3,  4, 16, 17,  2, 15,\n",
            "         16, 33]])\n"
          ]
        }
      ]
    },
    {
      "cell_type": "markdown",
      "metadata": {
        "id": "Ve3sraIC3qUb"
      },
      "source": [
        "## GNNBenchmarkDataset\n",
        "\n",
        "* A variety of artificially and semi-artificially generated graph datasets\n",
        "* 논문 \"Benchmarking Graph Neural Networks\""
      ]
    },
    {
      "cell_type": "code",
      "metadata": {
        "id": "aceEmMSZ3GGt"
      },
      "source": [
        "from torch_geometric.datasets import GNNBenchmarkDataset"
      ],
      "execution_count": 30,
      "outputs": []
    },
    {
      "cell_type": "code",
      "metadata": {
        "colab": {
          "base_uri": "https://localhost:8080/"
        },
        "id": "amCW0qBZ4e15",
        "outputId": "5dd1b742-cd75-49b4-d546-2f9ab378d1eb"
      },
      "source": [
        "\"\"\"\n",
        "name \n",
        "  node classification : 'PATTERN', 'CLUSTER'\n",
        "  link prediction : 'TSP', 'COLLAB'\n",
        "  graph regression : 'ZINC'\n",
        "  graph classification : 'MNIST', 'CIFAR10', 'CSL'\n",
        "\"\"\"\n",
        "gb_pat = GNNBenchmarkDataset(root='./tmp/GBD', name='PATTERN', split='train')"
      ],
      "execution_count": 40,
      "outputs": [
        {
          "output_type": "stream",
          "name": "stderr",
          "text": [
            "Downloading https://data.pyg.org/datasets/benchmarking-gnns/PATTERN_v2.zip\n",
            "Extracting tmp/GBD/PATTERN/raw/PATTERN_v2.zip\n",
            "Processing...\n",
            "Done!\n"
          ]
        }
      ]
    },
    {
      "cell_type": "code",
      "metadata": {
        "id": "01CCIytM7fvv"
      },
      "source": [
        "pat004 = gb_pat[4]"
      ],
      "execution_count": 41,
      "outputs": []
    },
    {
      "cell_type": "code",
      "metadata": {
        "colab": {
          "base_uri": "https://localhost:8080/"
        },
        "id": "HVNeUfjc9bgX",
        "outputId": "2fab3692-aabd-40c7-8dc3-5e4dd1b3381c"
      },
      "source": [
        "print(f'pat004.num_nodes = {pat004.num_nodes}')\n",
        "print(f'pat004.num_edges = {pat004.num_edges}')\n",
        "print(pat004.keys)"
      ],
      "execution_count": 47,
      "outputs": [
        {
          "output_type": "stream",
          "name": "stdout",
          "text": [
            "pat004.num_nodes = 135\n",
            "pat004.num_edges = 7484\n",
            "['y', 'x', 'edge_index']\n"
          ]
        }
      ]
    },
    {
      "cell_type": "code",
      "metadata": {
        "colab": {
          "base_uri": "https://localhost:8080/"
        },
        "id": "1-U-r_Xm_OOo",
        "outputId": "55255948-11b9-4804-fa2a-e8c94d6e1eb3"
      },
      "source": [
        "print(pat004.x)"
      ],
      "execution_count": 44,
      "outputs": [
        {
          "output_type": "stream",
          "name": "stdout",
          "text": [
            "tensor([[0., 1., 0.],\n",
            "        [0., 1., 0.],\n",
            "        [0., 0., 1.],\n",
            "        [0., 1., 0.],\n",
            "        [0., 1., 0.],\n",
            "        [1., 0., 0.],\n",
            "        [1., 0., 0.],\n",
            "        [1., 0., 0.],\n",
            "        [0., 1., 0.],\n",
            "        [1., 0., 0.],\n",
            "        [0., 0., 1.],\n",
            "        [1., 0., 0.],\n",
            "        [0., 1., 0.],\n",
            "        [1., 0., 0.],\n",
            "        [0., 1., 0.],\n",
            "        [0., 1., 0.],\n",
            "        [1., 0., 0.],\n",
            "        [0., 0., 1.],\n",
            "        [0., 1., 0.],\n",
            "        [0., 0., 1.],\n",
            "        [1., 0., 0.],\n",
            "        [0., 0., 1.],\n",
            "        [0., 0., 1.],\n",
            "        [0., 1., 0.],\n",
            "        [1., 0., 0.],\n",
            "        [1., 0., 0.],\n",
            "        [0., 1., 0.],\n",
            "        [0., 1., 0.],\n",
            "        [0., 1., 0.],\n",
            "        [1., 0., 0.],\n",
            "        [0., 1., 0.],\n",
            "        [0., 0., 1.],\n",
            "        [1., 0., 0.],\n",
            "        [0., 1., 0.],\n",
            "        [0., 0., 1.],\n",
            "        [0., 1., 0.],\n",
            "        [0., 0., 1.],\n",
            "        [1., 0., 0.],\n",
            "        [0., 1., 0.],\n",
            "        [0., 0., 1.],\n",
            "        [1., 0., 0.],\n",
            "        [0., 1., 0.],\n",
            "        [1., 0., 0.],\n",
            "        [0., 1., 0.],\n",
            "        [0., 1., 0.],\n",
            "        [1., 0., 0.],\n",
            "        [0., 1., 0.],\n",
            "        [0., 1., 0.],\n",
            "        [1., 0., 0.],\n",
            "        [0., 0., 1.],\n",
            "        [1., 0., 0.],\n",
            "        [0., 0., 1.],\n",
            "        [0., 0., 1.],\n",
            "        [0., 0., 1.],\n",
            "        [0., 1., 0.],\n",
            "        [1., 0., 0.],\n",
            "        [0., 0., 1.],\n",
            "        [0., 1., 0.],\n",
            "        [0., 1., 0.],\n",
            "        [0., 0., 1.],\n",
            "        [1., 0., 0.],\n",
            "        [1., 0., 0.],\n",
            "        [0., 0., 1.],\n",
            "        [1., 0., 0.],\n",
            "        [0., 0., 1.],\n",
            "        [0., 1., 0.],\n",
            "        [0., 1., 0.],\n",
            "        [0., 1., 0.],\n",
            "        [1., 0., 0.],\n",
            "        [0., 1., 0.],\n",
            "        [0., 1., 0.],\n",
            "        [0., 0., 1.],\n",
            "        [0., 1., 0.],\n",
            "        [0., 0., 1.],\n",
            "        [1., 0., 0.],\n",
            "        [1., 0., 0.],\n",
            "        [0., 0., 1.],\n",
            "        [0., 0., 1.],\n",
            "        [1., 0., 0.],\n",
            "        [0., 0., 1.],\n",
            "        [0., 0., 1.],\n",
            "        [1., 0., 0.],\n",
            "        [0., 0., 1.],\n",
            "        [1., 0., 0.],\n",
            "        [1., 0., 0.],\n",
            "        [0., 0., 1.],\n",
            "        [0., 1., 0.],\n",
            "        [0., 0., 1.],\n",
            "        [1., 0., 0.],\n",
            "        [1., 0., 0.],\n",
            "        [0., 0., 1.],\n",
            "        [0., 0., 1.],\n",
            "        [1., 0., 0.],\n",
            "        [0., 1., 0.],\n",
            "        [0., 0., 1.],\n",
            "        [1., 0., 0.],\n",
            "        [1., 0., 0.],\n",
            "        [1., 0., 0.],\n",
            "        [0., 1., 0.],\n",
            "        [0., 1., 0.],\n",
            "        [0., 1., 0.],\n",
            "        [0., 0., 1.],\n",
            "        [0., 1., 0.],\n",
            "        [1., 0., 0.],\n",
            "        [0., 0., 1.],\n",
            "        [0., 0., 1.],\n",
            "        [0., 0., 1.],\n",
            "        [1., 0., 0.],\n",
            "        [1., 0., 0.],\n",
            "        [0., 1., 0.],\n",
            "        [0., 1., 0.],\n",
            "        [0., 1., 0.],\n",
            "        [0., 1., 0.],\n",
            "        [0., 0., 1.],\n",
            "        [1., 0., 0.],\n",
            "        [0., 0., 1.],\n",
            "        [0., 0., 1.],\n",
            "        [0., 1., 0.],\n",
            "        [0., 0., 1.],\n",
            "        [0., 0., 1.],\n",
            "        [0., 0., 1.],\n",
            "        [0., 1., 0.],\n",
            "        [0., 1., 0.],\n",
            "        [0., 0., 1.],\n",
            "        [1., 0., 0.],\n",
            "        [0., 1., 0.],\n",
            "        [0., 1., 0.],\n",
            "        [1., 0., 0.],\n",
            "        [1., 0., 0.],\n",
            "        [0., 0., 1.],\n",
            "        [0., 1., 0.],\n",
            "        [0., 1., 0.],\n",
            "        [1., 0., 0.],\n",
            "        [0., 1., 0.],\n",
            "        [0., 0., 1.]])\n"
          ]
        }
      ]
    },
    {
      "cell_type": "code",
      "metadata": {
        "colab": {
          "base_uri": "https://localhost:8080/"
        },
        "id": "TB8_1f7r_Tvm",
        "outputId": "6a5d7f0d-9199-46f0-e197-e91fa20371a2"
      },
      "source": [
        "print(pat004.y)"
      ],
      "execution_count": 48,
      "outputs": [
        {
          "output_type": "stream",
          "name": "stdout",
          "text": [
            "tensor([0, 0, 0, 0, 0, 0, 0, 0, 0, 0, 0, 0, 1, 0, 1, 0, 0, 1, 1, 0, 0, 0, 1, 0,\n",
            "        1, 0, 1, 0, 1, 0, 0, 0, 0, 0, 0, 0, 1, 0, 0, 0, 0, 0, 0, 0, 0, 0, 0, 0,\n",
            "        0, 0, 0, 0, 0, 0, 0, 0, 0, 1, 0, 0, 0, 0, 1, 0, 1, 0, 0, 0, 0, 0, 0, 0,\n",
            "        0, 1, 0, 0, 0, 0, 0, 1, 0, 0, 0, 0, 0, 0, 0, 0, 0, 0, 0, 0, 0, 0, 0, 0,\n",
            "        0, 0, 0, 0, 0, 0, 0, 0, 0, 0, 0, 1, 0, 0, 1, 0, 0, 0, 0, 0, 0, 0, 0, 0,\n",
            "        0, 0, 0, 1, 0, 1, 0, 0, 0, 0, 0, 0, 0, 0, 0])\n"
          ]
        }
      ]
    },
    {
      "cell_type": "code",
      "metadata": {
        "colab": {
          "base_uri": "https://localhost:8080/"
        },
        "id": "x_jCFMzw_uD4",
        "outputId": "9c2574cf-81b1-44f5-8559-5a1b4b5e62a7"
      },
      "source": [
        "gb_mnist = GNNBenchmarkDataset(root='./tmp/GBD', name='MNIST')"
      ],
      "execution_count": 49,
      "outputs": [
        {
          "output_type": "stream",
          "name": "stderr",
          "text": [
            "Downloading https://data.pyg.org/datasets/benchmarking-gnns/MNIST_v2.zip\n",
            "Extracting tmp/GBD/MNIST/raw/MNIST_v2.zip\n",
            "Processing...\n",
            "Done!\n"
          ]
        }
      ]
    },
    {
      "cell_type": "code",
      "metadata": {
        "colab": {
          "base_uri": "https://localhost:8080/"
        },
        "id": "4qFzTmlMF1Od",
        "outputId": "22457912-73ae-4b67-9753-02aab427b559"
      },
      "source": [
        "print(len(gb_mnist))\n",
        "print(type(gb_mnist))"
      ],
      "execution_count": 56,
      "outputs": [
        {
          "output_type": "stream",
          "name": "stdout",
          "text": [
            "55000\n",
            "<class 'torch_geometric.datasets.gnn_benchmark_dataset.GNNBenchmarkDataset'>\n"
          ]
        }
      ]
    },
    {
      "cell_type": "code",
      "metadata": {
        "colab": {
          "base_uri": "https://localhost:8080/"
        },
        "id": "Uq8BwFUOAAem",
        "outputId": "184c4900-8079-49b9-b33a-fd6a49fb08f9"
      },
      "source": [
        "mnist77 = gb_mnist[77]\n",
        "print(f'num of nodes = {mnist77.num_nodes}')\n",
        "print(f'num of node features = {mnist77.num_node_features}')\n",
        "print(f'num of edges = {mnist77.num_edges}')"
      ],
      "execution_count": 51,
      "outputs": [
        {
          "output_type": "stream",
          "name": "stdout",
          "text": [
            "num of nodes = 73\n",
            "num of node features = 1\n",
            "num of edges = 584\n"
          ]
        }
      ]
    },
    {
      "cell_type": "code",
      "metadata": {
        "colab": {
          "base_uri": "https://localhost:8080/"
        },
        "id": "jhm6Ch8vAX2n",
        "outputId": "34430abe-593b-4aae-c54f-a3129da7b134"
      },
      "source": [
        "mnist77.x"
      ],
      "execution_count": 52,
      "outputs": [
        {
          "output_type": "execute_result",
          "data": {
            "text/plain": [
              "tensor([[0.0000],\n",
              "        [0.0000],\n",
              "        [0.0000],\n",
              "        [0.9502],\n",
              "        [0.0078],\n",
              "        [0.0000],\n",
              "        [0.0000],\n",
              "        [0.0735],\n",
              "        [0.0000],\n",
              "        [0.0027],\n",
              "        [0.0000],\n",
              "        [0.0275],\n",
              "        [0.0000],\n",
              "        [0.1522],\n",
              "        [0.0000],\n",
              "        [0.0000],\n",
              "        [0.1171],\n",
              "        [0.0228],\n",
              "        [0.0000],\n",
              "        [0.0000],\n",
              "        [0.0000],\n",
              "        [0.0000],\n",
              "        [0.0126],\n",
              "        [0.0000],\n",
              "        [0.0742],\n",
              "        [0.0000],\n",
              "        [0.0000],\n",
              "        [0.0848],\n",
              "        [0.0000],\n",
              "        [0.0000],\n",
              "        [0.0000],\n",
              "        [0.8164],\n",
              "        [0.0000],\n",
              "        [0.7642],\n",
              "        [0.0000],\n",
              "        [0.0000],\n",
              "        [0.8809],\n",
              "        [0.0688],\n",
              "        [0.0000],\n",
              "        [0.0000],\n",
              "        [0.0000],\n",
              "        [0.8477],\n",
              "        [0.0000],\n",
              "        [0.0000],\n",
              "        [0.0000],\n",
              "        [0.0000],\n",
              "        [0.0000],\n",
              "        [0.9844],\n",
              "        [0.0112],\n",
              "        [0.0608],\n",
              "        [0.0000],\n",
              "        [0.0000],\n",
              "        [0.0467],\n",
              "        [0.0000],\n",
              "        [0.8052],\n",
              "        [0.0000],\n",
              "        [0.0000],\n",
              "        [0.8530],\n",
              "        [0.0851],\n",
              "        [0.9580],\n",
              "        [0.0000],\n",
              "        [0.0000],\n",
              "        [0.0000],\n",
              "        [0.0000],\n",
              "        [0.0000],\n",
              "        [0.0000],\n",
              "        [0.0000],\n",
              "        [0.0000],\n",
              "        [0.0000],\n",
              "        [0.0000],\n",
              "        [0.0000],\n",
              "        [0.0088],\n",
              "        [0.8232]])"
            ]
          },
          "metadata": {},
          "execution_count": 52
        }
      ]
    },
    {
      "cell_type": "code",
      "metadata": {
        "colab": {
          "base_uri": "https://localhost:8080/"
        },
        "id": "elR6xV_HCE8u",
        "outputId": "8dfc612d-c224-4a00-fd25-4ed4259d6de6"
      },
      "source": [
        "mnist77.y"
      ],
      "execution_count": 53,
      "outputs": [
        {
          "output_type": "execute_result",
          "data": {
            "text/plain": [
              "tensor([4])"
            ]
          },
          "metadata": {},
          "execution_count": 53
        }
      ]
    },
    {
      "cell_type": "markdown",
      "metadata": {
        "id": "AVw_LqtcIMvl"
      },
      "source": [
        "## Make Own Dataset\n",
        "\n",
        "* disk에 저장하지 않고 synthetic data를 만들자.\n",
        "* 간단히 list[torch_geometric.data.Data] 를 사용하면 된다!\n",
        "* 근데 왜 loader로 for loop 구성하는건 안될까..."
      ]
    },
    {
      "cell_type": "code",
      "metadata": {
        "id": "fCmlng4DFx9s"
      },
      "source": [
        "from torch_geometric.loader import DataLoader\n",
        "\n",
        "# 이전에 정의한 mgraph1 사용\n",
        "edges = [[1,2],[1,3], [1,9], [2,5], [3,4], [3,7], [4,5], [4,8], [5,6], [6,7], [7,8], [8,9]]\n",
        " \n",
        "edge_list = []\n",
        "for e in edges:\n",
        "  e2 = [e[1], e[0]]\n",
        "  edge_list.append(e)\n",
        "  edge_list.append(e2)\n",
        "edge_list = torch.tensor(edge_list, dtype=torch.long)\n",
        "\n",
        "node_feature = [[1, 3], [2, 2], [3,3],[4,3],[5,3],[6,2],[7,3],[8,3],[9,2]]\n",
        "node_feature = torch.tensor(node_feature, dtype=torch.float)\n",
        "g = Data(x=node_feature, edge_index=edge_list.T.contiguous())\n",
        "\n",
        "n_f2 = torch.tensor([[1,3,4], [2,2,4], [3,3,6],[4,3,7],[5,3,8],[6,2,8],[7,3,10],[8,3,11],[9,2,11]],dtype=torch.float)\n",
        "g2 = Data(x=n_f2, edge_index=edge_list.T.contiguous())\n",
        "\n",
        "n_f3 = torch.tensor([[1], [2], [3],[4],[5],[6],[7],[8],[9]],dtype=torch.float)\n",
        "g3 = Data(x=n_f3, edge_index=edge_list.T.contiguous())\n"
      ],
      "execution_count": null,
      "outputs": []
    },
    {
      "cell_type": "code",
      "metadata": {
        "colab": {
          "base_uri": "https://localhost:8080/",
          "height": 394
        },
        "id": "8wvxFbf4KBUs",
        "outputId": "c123f394-d1df-4f98-d32d-84c5fecf275a"
      },
      "source": [
        "my_dataset = [g, g2, g3, g, g2, g3]\n",
        "loader = DataLoader(my_dataset, batch_size=2, shuffle=True)\n",
        "print(loader)\n",
        "\n",
        "for d in loader:\n",
        "  print(d,'\\n')"
      ],
      "execution_count": 69,
      "outputs": [
        {
          "output_type": "stream",
          "name": "stdout",
          "text": [
            "<torch_geometric.loader.dataloader.DataLoader object at 0x7f54eda27910>\n"
          ]
        },
        {
          "output_type": "error",
          "ename": "RuntimeError",
          "evalue": "ignored",
          "traceback": [
            "\u001b[0;31m---------------------------------------------------------------------------\u001b[0m",
            "\u001b[0;31mRuntimeError\u001b[0m                              Traceback (most recent call last)",
            "\u001b[0;32m<ipython-input-69-56c91ea83895>\u001b[0m in \u001b[0;36m<module>\u001b[0;34m()\u001b[0m\n\u001b[1;32m      3\u001b[0m \u001b[0mprint\u001b[0m\u001b[0;34m(\u001b[0m\u001b[0mloader\u001b[0m\u001b[0;34m)\u001b[0m\u001b[0;34m\u001b[0m\u001b[0;34m\u001b[0m\u001b[0m\n\u001b[1;32m      4\u001b[0m \u001b[0;34m\u001b[0m\u001b[0m\n\u001b[0;32m----> 5\u001b[0;31m \u001b[0;32mfor\u001b[0m \u001b[0md\u001b[0m \u001b[0;32min\u001b[0m \u001b[0mloader\u001b[0m\u001b[0;34m:\u001b[0m\u001b[0;34m\u001b[0m\u001b[0;34m\u001b[0m\u001b[0m\n\u001b[0m\u001b[1;32m      6\u001b[0m   \u001b[0mprint\u001b[0m\u001b[0;34m(\u001b[0m\u001b[0md\u001b[0m\u001b[0;34m,\u001b[0m\u001b[0;34m'\\n'\u001b[0m\u001b[0;34m)\u001b[0m\u001b[0;34m\u001b[0m\u001b[0;34m\u001b[0m\u001b[0m\n",
            "\u001b[0;32m/usr/local/lib/python3.7/dist-packages/torch/utils/data/dataloader.py\u001b[0m in \u001b[0;36m__next__\u001b[0;34m(self)\u001b[0m\n\u001b[1;32m    519\u001b[0m             \u001b[0;32mif\u001b[0m \u001b[0mself\u001b[0m\u001b[0;34m.\u001b[0m\u001b[0m_sampler_iter\u001b[0m \u001b[0;32mis\u001b[0m \u001b[0;32mNone\u001b[0m\u001b[0;34m:\u001b[0m\u001b[0;34m\u001b[0m\u001b[0;34m\u001b[0m\u001b[0m\n\u001b[1;32m    520\u001b[0m                 \u001b[0mself\u001b[0m\u001b[0;34m.\u001b[0m\u001b[0m_reset\u001b[0m\u001b[0;34m(\u001b[0m\u001b[0;34m)\u001b[0m\u001b[0;34m\u001b[0m\u001b[0;34m\u001b[0m\u001b[0m\n\u001b[0;32m--> 521\u001b[0;31m             \u001b[0mdata\u001b[0m \u001b[0;34m=\u001b[0m \u001b[0mself\u001b[0m\u001b[0;34m.\u001b[0m\u001b[0m_next_data\u001b[0m\u001b[0;34m(\u001b[0m\u001b[0;34m)\u001b[0m\u001b[0;34m\u001b[0m\u001b[0;34m\u001b[0m\u001b[0m\n\u001b[0m\u001b[1;32m    522\u001b[0m             \u001b[0mself\u001b[0m\u001b[0;34m.\u001b[0m\u001b[0m_num_yielded\u001b[0m \u001b[0;34m+=\u001b[0m \u001b[0;36m1\u001b[0m\u001b[0;34m\u001b[0m\u001b[0;34m\u001b[0m\u001b[0m\n\u001b[1;32m    523\u001b[0m             \u001b[0;32mif\u001b[0m \u001b[0mself\u001b[0m\u001b[0;34m.\u001b[0m\u001b[0m_dataset_kind\u001b[0m \u001b[0;34m==\u001b[0m \u001b[0m_DatasetKind\u001b[0m\u001b[0;34m.\u001b[0m\u001b[0mIterable\u001b[0m \u001b[0;32mand\u001b[0m\u001b[0;31m \u001b[0m\u001b[0;31m\\\u001b[0m\u001b[0;34m\u001b[0m\u001b[0;34m\u001b[0m\u001b[0m\n",
            "\u001b[0;32m/usr/local/lib/python3.7/dist-packages/torch/utils/data/dataloader.py\u001b[0m in \u001b[0;36m_next_data\u001b[0;34m(self)\u001b[0m\n\u001b[1;32m    559\u001b[0m     \u001b[0;32mdef\u001b[0m \u001b[0m_next_data\u001b[0m\u001b[0;34m(\u001b[0m\u001b[0mself\u001b[0m\u001b[0;34m)\u001b[0m\u001b[0;34m:\u001b[0m\u001b[0;34m\u001b[0m\u001b[0;34m\u001b[0m\u001b[0m\n\u001b[1;32m    560\u001b[0m         \u001b[0mindex\u001b[0m \u001b[0;34m=\u001b[0m \u001b[0mself\u001b[0m\u001b[0;34m.\u001b[0m\u001b[0m_next_index\u001b[0m\u001b[0;34m(\u001b[0m\u001b[0;34m)\u001b[0m  \u001b[0;31m# may raise StopIteration\u001b[0m\u001b[0;34m\u001b[0m\u001b[0;34m\u001b[0m\u001b[0m\n\u001b[0;32m--> 561\u001b[0;31m         \u001b[0mdata\u001b[0m \u001b[0;34m=\u001b[0m \u001b[0mself\u001b[0m\u001b[0;34m.\u001b[0m\u001b[0m_dataset_fetcher\u001b[0m\u001b[0;34m.\u001b[0m\u001b[0mfetch\u001b[0m\u001b[0;34m(\u001b[0m\u001b[0mindex\u001b[0m\u001b[0;34m)\u001b[0m  \u001b[0;31m# may raise StopIteration\u001b[0m\u001b[0;34m\u001b[0m\u001b[0;34m\u001b[0m\u001b[0m\n\u001b[0m\u001b[1;32m    562\u001b[0m         \u001b[0;32mif\u001b[0m \u001b[0mself\u001b[0m\u001b[0;34m.\u001b[0m\u001b[0m_pin_memory\u001b[0m\u001b[0;34m:\u001b[0m\u001b[0;34m\u001b[0m\u001b[0;34m\u001b[0m\u001b[0m\n\u001b[1;32m    563\u001b[0m             \u001b[0mdata\u001b[0m \u001b[0;34m=\u001b[0m \u001b[0m_utils\u001b[0m\u001b[0;34m.\u001b[0m\u001b[0mpin_memory\u001b[0m\u001b[0;34m.\u001b[0m\u001b[0mpin_memory\u001b[0m\u001b[0;34m(\u001b[0m\u001b[0mdata\u001b[0m\u001b[0;34m)\u001b[0m\u001b[0;34m\u001b[0m\u001b[0;34m\u001b[0m\u001b[0m\n",
            "\u001b[0;32m/usr/local/lib/python3.7/dist-packages/torch/utils/data/_utils/fetch.py\u001b[0m in \u001b[0;36mfetch\u001b[0;34m(self, possibly_batched_index)\u001b[0m\n\u001b[1;32m     45\u001b[0m         \u001b[0;32melse\u001b[0m\u001b[0;34m:\u001b[0m\u001b[0;34m\u001b[0m\u001b[0;34m\u001b[0m\u001b[0m\n\u001b[1;32m     46\u001b[0m             \u001b[0mdata\u001b[0m \u001b[0;34m=\u001b[0m \u001b[0mself\u001b[0m\u001b[0;34m.\u001b[0m\u001b[0mdataset\u001b[0m\u001b[0;34m[\u001b[0m\u001b[0mpossibly_batched_index\u001b[0m\u001b[0;34m]\u001b[0m\u001b[0;34m\u001b[0m\u001b[0;34m\u001b[0m\u001b[0m\n\u001b[0;32m---> 47\u001b[0;31m         \u001b[0;32mreturn\u001b[0m \u001b[0mself\u001b[0m\u001b[0;34m.\u001b[0m\u001b[0mcollate_fn\u001b[0m\u001b[0;34m(\u001b[0m\u001b[0mdata\u001b[0m\u001b[0;34m)\u001b[0m\u001b[0;34m\u001b[0m\u001b[0;34m\u001b[0m\u001b[0m\n\u001b[0m",
            "\u001b[0;32m/usr/local/lib/python3.7/dist-packages/torch_geometric/loader/dataloader.py\u001b[0m in \u001b[0;36m__call__\u001b[0;34m(self, batch)\u001b[0m\n\u001b[1;32m     37\u001b[0m \u001b[0;34m\u001b[0m\u001b[0m\n\u001b[1;32m     38\u001b[0m     \u001b[0;32mdef\u001b[0m \u001b[0m__call__\u001b[0m\u001b[0;34m(\u001b[0m\u001b[0mself\u001b[0m\u001b[0;34m,\u001b[0m \u001b[0mbatch\u001b[0m\u001b[0;34m)\u001b[0m\u001b[0;34m:\u001b[0m\u001b[0;34m\u001b[0m\u001b[0;34m\u001b[0m\u001b[0m\n\u001b[0;32m---> 39\u001b[0;31m         \u001b[0;32mreturn\u001b[0m \u001b[0mself\u001b[0m\u001b[0;34m.\u001b[0m\u001b[0mcollate\u001b[0m\u001b[0;34m(\u001b[0m\u001b[0mbatch\u001b[0m\u001b[0;34m)\u001b[0m\u001b[0;34m\u001b[0m\u001b[0;34m\u001b[0m\u001b[0m\n\u001b[0m\u001b[1;32m     40\u001b[0m \u001b[0;34m\u001b[0m\u001b[0m\n\u001b[1;32m     41\u001b[0m \u001b[0;34m\u001b[0m\u001b[0m\n",
            "\u001b[0;32m/usr/local/lib/python3.7/dist-packages/torch_geometric/loader/dataloader.py\u001b[0m in \u001b[0;36mcollate\u001b[0;34m(self, batch)\u001b[0m\n\u001b[1;32m     18\u001b[0m         \u001b[0;32mif\u001b[0m \u001b[0misinstance\u001b[0m\u001b[0;34m(\u001b[0m\u001b[0melem\u001b[0m\u001b[0;34m,\u001b[0m \u001b[0mData\u001b[0m\u001b[0;34m)\u001b[0m \u001b[0;32mor\u001b[0m \u001b[0misinstance\u001b[0m\u001b[0;34m(\u001b[0m\u001b[0melem\u001b[0m\u001b[0;34m,\u001b[0m \u001b[0mHeteroData\u001b[0m\u001b[0;34m)\u001b[0m\u001b[0;34m:\u001b[0m\u001b[0;34m\u001b[0m\u001b[0;34m\u001b[0m\u001b[0m\n\u001b[1;32m     19\u001b[0m             return Batch.from_data_list(batch, self.follow_batch,\n\u001b[0;32m---> 20\u001b[0;31m                                         self.exclude_keys)\n\u001b[0m\u001b[1;32m     21\u001b[0m         \u001b[0;32melif\u001b[0m \u001b[0misinstance\u001b[0m\u001b[0;34m(\u001b[0m\u001b[0melem\u001b[0m\u001b[0;34m,\u001b[0m \u001b[0mtorch\u001b[0m\u001b[0;34m.\u001b[0m\u001b[0mTensor\u001b[0m\u001b[0;34m)\u001b[0m\u001b[0;34m:\u001b[0m\u001b[0;34m\u001b[0m\u001b[0;34m\u001b[0m\u001b[0m\n\u001b[1;32m     22\u001b[0m             \u001b[0;32mreturn\u001b[0m \u001b[0mdefault_collate\u001b[0m\u001b[0;34m(\u001b[0m\u001b[0mbatch\u001b[0m\u001b[0;34m)\u001b[0m\u001b[0;34m\u001b[0m\u001b[0;34m\u001b[0m\u001b[0m\n",
            "\u001b[0;32m/usr/local/lib/python3.7/dist-packages/torch_geometric/data/batch.py\u001b[0m in \u001b[0;36mfrom_data_list\u001b[0;34m(cls, data_list, follow_batch, exclude_keys)\u001b[0m\n\u001b[1;32m     67\u001b[0m             \u001b[0madd_batch\u001b[0m\u001b[0;34m=\u001b[0m\u001b[0;32mTrue\u001b[0m\u001b[0;34m,\u001b[0m\u001b[0;34m\u001b[0m\u001b[0;34m\u001b[0m\u001b[0m\n\u001b[1;32m     68\u001b[0m             \u001b[0mfollow_batch\u001b[0m\u001b[0;34m=\u001b[0m\u001b[0mfollow_batch\u001b[0m\u001b[0;34m,\u001b[0m\u001b[0;34m\u001b[0m\u001b[0;34m\u001b[0m\u001b[0m\n\u001b[0;32m---> 69\u001b[0;31m             \u001b[0mexclude_keys\u001b[0m\u001b[0;34m=\u001b[0m\u001b[0mexclude_keys\u001b[0m\u001b[0;34m,\u001b[0m\u001b[0;34m\u001b[0m\u001b[0;34m\u001b[0m\u001b[0m\n\u001b[0m\u001b[1;32m     70\u001b[0m         )\n\u001b[1;32m     71\u001b[0m \u001b[0;34m\u001b[0m\u001b[0m\n",
            "\u001b[0;32m/usr/local/lib/python3.7/dist-packages/torch_geometric/data/collate.py\u001b[0m in \u001b[0;36mcollate\u001b[0;34m(cls, data_list, increment, add_batch, follow_batch, exclude_keys)\u001b[0m\n\u001b[1;32m     75\u001b[0m             \u001b[0;31m# Collate attributes into a unified representation:\u001b[0m\u001b[0;34m\u001b[0m\u001b[0;34m\u001b[0m\u001b[0;34m\u001b[0m\u001b[0m\n\u001b[1;32m     76\u001b[0m             value, slices, incs = _collate(attr, values, data_list, stores,\n\u001b[0;32m---> 77\u001b[0;31m                                            increment)\n\u001b[0m\u001b[1;32m     78\u001b[0m \u001b[0;34m\u001b[0m\u001b[0m\n\u001b[1;32m     79\u001b[0m             \u001b[0mout_store\u001b[0m\u001b[0;34m[\u001b[0m\u001b[0mattr\u001b[0m\u001b[0;34m]\u001b[0m \u001b[0;34m=\u001b[0m \u001b[0mvalue\u001b[0m\u001b[0;34m\u001b[0m\u001b[0;34m\u001b[0m\u001b[0m\n",
            "\u001b[0;32m/usr/local/lib/python3.7/dist-packages/torch_geometric/data/collate.py\u001b[0m in \u001b[0;36m_collate\u001b[0;34m(key, values, data_list, stores, increment)\u001b[0m\n\u001b[1;32m    146\u001b[0m             \u001b[0mincs\u001b[0m \u001b[0;34m=\u001b[0m \u001b[0;32mNone\u001b[0m\u001b[0;34m\u001b[0m\u001b[0;34m\u001b[0m\u001b[0m\n\u001b[1;32m    147\u001b[0m \u001b[0;34m\u001b[0m\u001b[0m\n\u001b[0;32m--> 148\u001b[0;31m         \u001b[0mvalue\u001b[0m \u001b[0;34m=\u001b[0m \u001b[0mtorch\u001b[0m\u001b[0;34m.\u001b[0m\u001b[0mcat\u001b[0m\u001b[0;34m(\u001b[0m\u001b[0mvalues\u001b[0m\u001b[0;34m,\u001b[0m \u001b[0mdim\u001b[0m\u001b[0;34m=\u001b[0m\u001b[0mcat_dim\u001b[0m \u001b[0;32mor\u001b[0m \u001b[0;36m0\u001b[0m\u001b[0;34m)\u001b[0m\u001b[0;34m\u001b[0m\u001b[0;34m\u001b[0m\u001b[0m\n\u001b[0m\u001b[1;32m    149\u001b[0m         \u001b[0;32mreturn\u001b[0m \u001b[0mvalue\u001b[0m\u001b[0;34m,\u001b[0m \u001b[0mslices\u001b[0m\u001b[0;34m,\u001b[0m \u001b[0mincs\u001b[0m\u001b[0;34m\u001b[0m\u001b[0;34m\u001b[0m\u001b[0m\n\u001b[1;32m    150\u001b[0m \u001b[0;34m\u001b[0m\u001b[0m\n",
            "\u001b[0;31mRuntimeError\u001b[0m: torch.cat(): Sizes of tensors must match except in dimension 0. Got 1 and 3 in dimension 1 (The offending index is 1)"
          ]
        }
      ]
    }
  ]
}