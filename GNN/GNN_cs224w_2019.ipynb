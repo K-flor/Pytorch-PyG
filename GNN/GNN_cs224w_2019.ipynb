{
  "nbformat": 4,
  "nbformat_minor": 0,
  "metadata": {
    "colab": {
      "name": "GNN_cs224w_2019.ipynb",
      "provenance": [],
      "collapsed_sections": [
        "v5BJFZY6fJ01"
      ]
    },
    "kernelspec": {
      "name": "python3",
      "display_name": "Python 3"
    },
    "language_info": {
      "name": "python"
    },
    "accelerator": "GPU"
  },
  "cells": [
    {
      "cell_type": "markdown",
      "metadata": {
        "id": "IqqHAP2VcJKJ"
      },
      "source": [
        "\n",
        "\n",
        "---\n",
        "본 문서는 [Colab Link](https://colab.research.google.com/drive/1DIQm9rOx2mT1bZETEeVUThxcrP1RKqAn) 를 기반으로 작성했습니다.\n",
        "\n",
        "\n",
        "---\n",
        "\n",
        "\n"
      ]
    },
    {
      "cell_type": "markdown",
      "metadata": {
        "id": "zFZ9HA4DdJL2"
      },
      "source": [
        "## **SetUp**"
      ]
    },
    {
      "cell_type": "code",
      "metadata": {
        "colab": {
          "base_uri": "https://localhost:8080/"
        },
        "id": "ONXHi1skcDiP",
        "outputId": "97e7c3b0-32ed-4bca-a511-7f107169e889"
      },
      "source": [
        "import torch\n",
        "print(torch.__version__)"
      ],
      "execution_count": 5,
      "outputs": [
        {
          "output_type": "stream",
          "name": "stdout",
          "text": [
            "1.9.0+cu111\n"
          ]
        }
      ]
    },
    {
      "cell_type": "code",
      "metadata": {
        "colab": {
          "base_uri": "https://localhost:8080/"
        },
        "id": "-5rwjjQ-dAlG",
        "outputId": "727fc33b-2d16-4187-c35b-bcb13cf91744"
      },
      "source": [
        "!pip install torch-scatter torch-sparse torch-cluster torch-spline-conv torch-geometric -f https://data.pyg.org/whl/torch-1.9.0+cu111.html"
      ],
      "execution_count": 6,
      "outputs": [
        {
          "output_type": "stream",
          "name": "stdout",
          "text": [
            "Looking in links: https://data.pyg.org/whl/torch-1.9.0+cu111.html\n",
            "Requirement already satisfied: torch-scatter in /usr/local/lib/python3.7/dist-packages (2.0.9)\n",
            "Requirement already satisfied: torch-sparse in /usr/local/lib/python3.7/dist-packages (0.6.12)\n",
            "Requirement already satisfied: torch-cluster in /usr/local/lib/python3.7/dist-packages (1.5.9)\n",
            "Requirement already satisfied: torch-spline-conv in /usr/local/lib/python3.7/dist-packages (1.2.1)\n",
            "Requirement already satisfied: torch-geometric in /usr/local/lib/python3.7/dist-packages (2.0.1)\n",
            "Requirement already satisfied: scipy in /usr/local/lib/python3.7/dist-packages (from torch-sparse) (1.4.1)\n",
            "Requirement already satisfied: networkx in /usr/local/lib/python3.7/dist-packages (from torch-geometric) (2.6.3)\n",
            "Requirement already satisfied: yacs in /usr/local/lib/python3.7/dist-packages (from torch-geometric) (0.1.8)\n",
            "Requirement already satisfied: PyYAML in /usr/local/lib/python3.7/dist-packages (from torch-geometric) (3.13)\n",
            "Requirement already satisfied: numpy in /usr/local/lib/python3.7/dist-packages (from torch-geometric) (1.19.5)\n",
            "Requirement already satisfied: googledrivedownloader in /usr/local/lib/python3.7/dist-packages (from torch-geometric) (0.4)\n",
            "Requirement already satisfied: scikit-learn in /usr/local/lib/python3.7/dist-packages (from torch-geometric) (0.22.2.post1)\n",
            "Requirement already satisfied: requests in /usr/local/lib/python3.7/dist-packages (from torch-geometric) (2.23.0)\n",
            "Requirement already satisfied: pandas in /usr/local/lib/python3.7/dist-packages (from torch-geometric) (1.1.5)\n",
            "Requirement already satisfied: tqdm in /usr/local/lib/python3.7/dist-packages (from torch-geometric) (4.62.3)\n",
            "Requirement already satisfied: jinja2 in /usr/local/lib/python3.7/dist-packages (from torch-geometric) (2.11.3)\n",
            "Requirement already satisfied: rdflib in /usr/local/lib/python3.7/dist-packages (from torch-geometric) (6.0.2)\n",
            "Requirement already satisfied: pyparsing in /usr/local/lib/python3.7/dist-packages (from torch-geometric) (2.4.7)\n",
            "Requirement already satisfied: MarkupSafe>=0.23 in /usr/local/lib/python3.7/dist-packages (from jinja2->torch-geometric) (2.0.1)\n",
            "Requirement already satisfied: pytz>=2017.2 in /usr/local/lib/python3.7/dist-packages (from pandas->torch-geometric) (2018.9)\n",
            "Requirement already satisfied: python-dateutil>=2.7.3 in /usr/local/lib/python3.7/dist-packages (from pandas->torch-geometric) (2.8.2)\n",
            "Requirement already satisfied: six>=1.5 in /usr/local/lib/python3.7/dist-packages (from python-dateutil>=2.7.3->pandas->torch-geometric) (1.15.0)\n",
            "Requirement already satisfied: setuptools in /usr/local/lib/python3.7/dist-packages (from rdflib->torch-geometric) (57.4.0)\n",
            "Requirement already satisfied: isodate in /usr/local/lib/python3.7/dist-packages (from rdflib->torch-geometric) (0.6.0)\n",
            "Requirement already satisfied: idna<3,>=2.5 in /usr/local/lib/python3.7/dist-packages (from requests->torch-geometric) (2.10)\n",
            "Requirement already satisfied: certifi>=2017.4.17 in /usr/local/lib/python3.7/dist-packages (from requests->torch-geometric) (2021.5.30)\n",
            "Requirement already satisfied: chardet<4,>=3.0.2 in /usr/local/lib/python3.7/dist-packages (from requests->torch-geometric) (3.0.4)\n",
            "Requirement already satisfied: urllib3!=1.25.0,!=1.25.1,<1.26,>=1.21.1 in /usr/local/lib/python3.7/dist-packages (from requests->torch-geometric) (1.24.3)\n",
            "Requirement already satisfied: joblib>=0.11 in /usr/local/lib/python3.7/dist-packages (from scikit-learn->torch-geometric) (1.0.1)\n"
          ]
        }
      ]
    },
    {
      "cell_type": "code",
      "metadata": {
        "colab": {
          "base_uri": "https://localhost:8080/"
        },
        "id": "U1U1oGFSdT7O",
        "outputId": "30aba2da-f33e-4c82-9a59-6f2a9adc7cd7"
      },
      "source": [
        "!pip install tensorboardX"
      ],
      "execution_count": 7,
      "outputs": [
        {
          "output_type": "stream",
          "name": "stdout",
          "text": [
            "Requirement already satisfied: tensorboardX in /usr/local/lib/python3.7/dist-packages (2.4)\n",
            "Requirement already satisfied: protobuf>=3.8.0 in /usr/local/lib/python3.7/dist-packages (from tensorboardX) (3.17.3)\n",
            "Requirement already satisfied: numpy in /usr/local/lib/python3.7/dist-packages (from tensorboardX) (1.19.5)\n",
            "Requirement already satisfied: six>=1.9 in /usr/local/lib/python3.7/dist-packages (from protobuf>=3.8.0->tensorboardX) (1.15.0)\n"
          ]
        }
      ]
    },
    {
      "cell_type": "code",
      "metadata": {
        "id": "e-hNpKkIdIXl"
      },
      "source": [
        "import torch\n",
        "import torch.nn as nn\n",
        "import torch.nn.functional as F\n",
        "\n",
        "import torch_geometric.nn as pyg_nn\n",
        "import torch_geometric.utils as pyg_utils\n",
        "\n",
        "import time\n",
        "from datetime import datetime\n",
        "\n",
        "import networkx as nx\n",
        "import numpy as np\n",
        "import torch\n",
        "import torch.optim as optim\n",
        "\n",
        "from torch_geometric.datasets import TUDataset\n",
        "from torch_geometric.datasets import Planetoid\n",
        "from torch_geometric.loader import DataLoader\n",
        "\n",
        "import torch_geometric.transforms as T\n",
        "\n",
        "from tensorboardX import SummaryWriter\n",
        "from sklearn.manifold import TSNE\n",
        "import matplotlib.pyplot as plt"
      ],
      "execution_count": 47,
      "outputs": []
    },
    {
      "cell_type": "markdown",
      "metadata": {
        "id": "N2_DBvQpdej3"
      },
      "source": [
        "## **Defining the Model**\n",
        "\n",
        "* using `GNNStack` \n",
        "      \n",
        "* grpah classification : \n",
        "> 3 layers of convolution     \n",
        "> mean pooling      \n",
        "> 2 fully-connected layers    \n",
        "> loss function : negative log-likelihood\n",
        "     \n",
        "* node classification\n",
        "> 3 layers of convolution    \n",
        "> 2 fully-connected layers    \n",
        "> loss function : negative log-likelihood"
      ]
    },
    {
      "cell_type": "markdown",
      "metadata": {
        "id": "v5BJFZY6fJ01"
      },
      "source": [
        "#### (1) Node Classification"
      ]
    },
    {
      "cell_type": "code",
      "metadata": {
        "id": "ZMQ_XnQedhm1"
      },
      "source": [
        "# defining Model\n",
        "class GNNStack(nn.Module):\n",
        "    def __init__(self, input_dim, hidden_dim, output_dim):\n",
        "        super().__init__()\n",
        "        self.dropout = 0.25\n",
        "        self.num_layers = 3\n",
        "\n",
        "        self.convs = nn.ModuleList()\n",
        "        self.convs.append(self.build_conv_model(input_dim, hidden_dim))\n",
        "        self.lns = nn.ModuleList()\n",
        "        self.lns.append(nn.LayerNorm(hidden_dim))\n",
        "        self.lns.append(nn.LayerNorm(hidden_dim))\n",
        "\n",
        "        for l in range(2):\n",
        "            self.convs.append(self.build_conv_model(hidden_dim, hidden_dim))\n",
        "        \n",
        "        # post message passing\n",
        "        self.post_mp = nn.Sequential(\n",
        "            nn.Linear(hidden_dim, hidden_dim),\n",
        "            nn.Dropout(0.250),\n",
        "            nn.Linear(hidden_dim, output_dim)\n",
        "        )\n",
        "    \n",
        "    def build_conv_model(self, input_dim, hidden_dim):\n",
        "        return pyg_nn.GCNConv(input_dim, hidden_dim)\n",
        "\n",
        "    def forward(self, data):\n",
        "        x, edge_index, batch = data.x, data.edge_index, data.batch\n",
        "        # feature가 없다면 1로 구성된 벡터 생성\n",
        "        if data.num_node_features == 0:\n",
        "            x = torch.ones(data.num_nodes,1)\n",
        "        \n",
        "        for i in range(self.num_layers):\n",
        "            x = self.convs[i](x, edge_index)\n",
        "            emb = x\n",
        "            x = F.relu(x)\n",
        "            x = F.dropout(x, p=self.dropout, training=self.training)\n",
        "            if not i == self.num_layers-1:\n",
        "                x = self.lns[i](x)\n",
        "        x = self.post_mp(x)\n",
        "        return emb, F.log_softmax(x, dim=1)\n",
        "\n",
        "    def loss(self, pred, label):\n",
        "        return F.nll_loss(pred, label)    "
      ],
      "execution_count": 34,
      "outputs": []
    },
    {
      "cell_type": "code",
      "metadata": {
        "id": "--p7skzzk0cs"
      },
      "source": [
        "def train(dataset, writer=None):\n",
        "    test_loader = loader = DataLoader(dataset, batch_size=64, shuffle=True)\n",
        "\n",
        "    # build model\n",
        "    model = GNNStack(max(dataset.num_node_features,1), 32, dataset.num_classes)\n",
        "    opt = optim.Adam(model.parameters(), lr=0.01)\n",
        "\n",
        "    # train\n",
        "    for epoch in range(200):\n",
        "        total_loss = 0\n",
        "        model.train()\n",
        "        for batch in loader:\n",
        "            opt.zero_grad()\n",
        "            embedding, pred = model(batch)\n",
        "            label = batch.y\n",
        "            \n",
        "            pred = pred[batch.train_mask]\n",
        "            label = label[batch.train_mask]\n",
        "\n",
        "            loss = F.nll_loss(pred, label)\n",
        "            # backpropagation 단계, autograd를 실행한다고 생각\n",
        "            loss.backward()\n",
        "            opt.step()\n",
        "            total_loss += loss.item() * batch.num_graphs\n",
        "        total_loss = total_loss / len(loader.dataset)\n",
        "        if writer != None:\n",
        "            writer.add_scalar('loss', total_loss, epoch)\n",
        "\n",
        "        if epoch % 10 == 0:\n",
        "            test_acc = test(test_loader, model)\n",
        "            print(f'[ Epoch {epoch} ] Loss :{total_loss:.4f}, Test accuracy : {test_acc:.4f}')\n",
        "            if writer != None:\n",
        "                writer.add_scalar('test accuracy', test_acc, epoch)\n",
        "    return model\n",
        "\n",
        "def test(loader, model, is_valid=False):\n",
        "    model.eval()\n",
        "\n",
        "    correct = 0\n",
        "    for data in loader:\n",
        "        with torch.no_grad():\n",
        "            emb, pred = model(data)\n",
        "            pred = pred.argmax(dim=1)\n",
        "            label = data.y\n",
        "        \n",
        "        mask = data.val_mask if is_valid else data.test_mask\n",
        "        pred = pred[mask]\n",
        "        label = data.y[mask]\n",
        "    correct += pred.eq(label).sum().item()\n",
        "\n",
        "    total = 0\n",
        "    for data in loader.dataset:\n",
        "        total += torch.sum(data.test_mask).item()\n",
        "    return correct / total\n"
      ],
      "execution_count": 35,
      "outputs": []
    },
    {
      "cell_type": "code",
      "metadata": {
        "id": "gDAFvsmVuJ2y"
      },
      "source": [
        "dataset = Planetoid(root='./tmp/cora', name='cora')"
      ],
      "execution_count": 36,
      "outputs": []
    },
    {
      "cell_type": "code",
      "metadata": {
        "colab": {
          "base_uri": "https://localhost:8080/"
        },
        "id": "qaE3WjWfvCsA",
        "outputId": "35ced69f-2c1e-4b18-a827-b11bd4f58006"
      },
      "source": [
        "print('CORA dataset')\n",
        "print(f'# graphs = {len(dataset)}')\n",
        "print(f'# classes = {dataset.num_classes}')\n",
        "print(f'# features = {dataset.num_features}')\n",
        "print(f'# node features = {dataset.num_node_features}')\n",
        "print('\\n')\n",
        "\n",
        "d = dataset[0]\n",
        "print(d)\n",
        "print(f'# nodes = {d.num_nodes}\\n')\n",
        "print(f'd.x ({d.x.shape}) =\\n{d.x}\\n')\n",
        "print(f'd.edge_index ({d.edge_index.shape}) =\\n{d.edge_index}\\n')"
      ],
      "execution_count": 37,
      "outputs": [
        {
          "output_type": "stream",
          "name": "stdout",
          "text": [
            "CORA dataset\n",
            "# graphs = 1\n",
            "# classes = 7\n",
            "# features = 1433\n",
            "# node features = 1433\n",
            "\n",
            "\n",
            "Data(x=[2708, 1433], edge_index=[2, 10556], y=[2708], train_mask=[2708], val_mask=[2708], test_mask=[2708])\n",
            "# nodes = 2708\n",
            "\n",
            "d.x (torch.Size([2708, 1433])) =\n",
            "tensor([[0., 0., 0.,  ..., 0., 0., 0.],\n",
            "        [0., 0., 0.,  ..., 0., 0., 0.],\n",
            "        [0., 0., 0.,  ..., 0., 0., 0.],\n",
            "        ...,\n",
            "        [0., 0., 0.,  ..., 0., 0., 0.],\n",
            "        [0., 0., 0.,  ..., 0., 0., 0.],\n",
            "        [0., 0., 0.,  ..., 0., 0., 0.]])\n",
            "\n",
            "d.edge_index (torch.Size([2, 10556])) =\n",
            "tensor([[   0,    0,    0,  ..., 2707, 2707, 2707],\n",
            "        [ 633, 1862, 2582,  ...,  598, 1473, 2706]])\n",
            "\n"
          ]
        }
      ]
    },
    {
      "cell_type": "code",
      "metadata": {
        "colab": {
          "base_uri": "https://localhost:8080/"
        },
        "id": "hlUnlBd_ut_J",
        "outputId": "bd7a577e-ed9b-4055-f3c1-e1a5218a015d"
      },
      "source": [
        "model = train(dataset)"
      ],
      "execution_count": 38,
      "outputs": [
        {
          "output_type": "stream",
          "name": "stdout",
          "text": [
            "[ Epoch 0 ] Loss :1.9539, Test accuracy : 0.1710\n"
          ]
        },
        {
          "output_type": "stream",
          "name": "stderr",
          "text": [
            "/usr/local/lib/python3.7/dist-packages/torch_geometric/deprecation.py:13: UserWarning: 'data.DataLoader' is deprecated, use 'loader.DataLoader' instead\n",
            "  warnings.warn(out)\n"
          ]
        },
        {
          "output_type": "stream",
          "name": "stdout",
          "text": [
            "[ Epoch 10 ] Loss :0.3338, Test accuracy : 0.7560\n",
            "[ Epoch 20 ] Loss :0.0477, Test accuracy : 0.7660\n",
            "[ Epoch 30 ] Loss :0.0585, Test accuracy : 0.7140\n",
            "[ Epoch 40 ] Loss :0.0096, Test accuracy : 0.7560\n",
            "[ Epoch 50 ] Loss :0.0092, Test accuracy : 0.7490\n",
            "[ Epoch 60 ] Loss :0.0348, Test accuracy : 0.7370\n",
            "[ Epoch 70 ] Loss :0.0404, Test accuracy : 0.7440\n",
            "[ Epoch 80 ] Loss :0.0022, Test accuracy : 0.7620\n",
            "[ Epoch 90 ] Loss :0.0033, Test accuracy : 0.7750\n",
            "[ Epoch 100 ] Loss :0.0010, Test accuracy : 0.7520\n",
            "[ Epoch 110 ] Loss :0.0015, Test accuracy : 0.7130\n",
            "[ Epoch 120 ] Loss :0.0019, Test accuracy : 0.7510\n",
            "[ Epoch 130 ] Loss :0.0015, Test accuracy : 0.7600\n",
            "[ Epoch 140 ] Loss :0.0006, Test accuracy : 0.7580\n",
            "[ Epoch 150 ] Loss :0.0014, Test accuracy : 0.7590\n",
            "[ Epoch 160 ] Loss :0.0003, Test accuracy : 0.7640\n",
            "[ Epoch 170 ] Loss :0.0006, Test accuracy : 0.7720\n",
            "[ Epoch 180 ] Loss :0.0001, Test accuracy : 0.7740\n",
            "[ Epoch 190 ] Loss :0.0002, Test accuracy : 0.7710\n"
          ]
        }
      ]
    },
    {
      "cell_type": "markdown",
      "metadata": {
        "id": "GF8Lzj4TxVmR"
      },
      "source": [
        "\n",
        "\n",
        "---\n",
        "#### (2) Graph classification\n"
      ]
    },
    {
      "cell_type": "code",
      "metadata": {
        "id": "lMWHL4twxdNI"
      },
      "source": [
        "class GNNStack(nn.Module):\n",
        "    def __init__(self, input_dim, hidden_dim, output_dim):\n",
        "        super().__init__()\n",
        "        self.dropout = 0.25\n",
        "        self.num_layers = 3\n",
        "\n",
        "        self.convs = nn.ModuleList()\n",
        "        self.convs.append(self.build_conv_model(input_dim, hidden_dim))\n",
        "        self.lns = nn.ModuleList()\n",
        "        self.lns.append(nn.LayerNorm(hidden_dim))\n",
        "        self.lns.append(nn.LayerNorm(hidden_dim))\n",
        "\n",
        "        for l in range(2):\n",
        "            self.convs.append(self.build_conv_model(hidden_dim, hidden_dim))\n",
        "        \n",
        "        # post message passing\n",
        "        self.post_mp = nn.Sequential(\n",
        "            nn.Linear(hidden_dim, hidden_dim),\n",
        "            nn.Dropout(0.250),\n",
        "            nn.Linear(hidden_dim, output_dim)\n",
        "        )\n",
        "    \n",
        "    def build_conv_model(self, input_dim, hidden_dim):\n",
        "        return pyg_nn.GINConv(\n",
        "            nn.Sequential(nn.Linear(input_dim, hidden_dim),\n",
        "                          nn.ReLU(),\n",
        "                          nn.Linear(hidden_dim,hidden_dim))\n",
        "        )\n",
        "\n",
        "    def forward(self, data):\n",
        "        x, edge_index, batch = data.x, data.edge_index, data.batch\n",
        "        # feature가 없다면 1로 구성된 벡터 생성\n",
        "        if data.num_node_features == 0:\n",
        "            x = torch.ones(data.num_nodes,1)\n",
        "        \n",
        "        for i in range(self.num_layers):\n",
        "            x = self.convs[i](x, edge_index)\n",
        "            emb = x\n",
        "            x = F.relu(x)\n",
        "            x = F.dropout(x, p=self.dropout, training=self.training)\n",
        "            if not i == self.num_layers-1:\n",
        "                x = self.lns[i](x)\n",
        "        x = pyg_nn.global_mean_pool(x, batch)\n",
        "        x = self.post_mp(x)\n",
        "        return emb, F.log_softmax(x, dim=1)\n",
        "\n",
        "    def loss(self, pred, label):\n",
        "        return F.nll_loss(pred, label)   "
      ],
      "execution_count": 48,
      "outputs": []
    },
    {
      "cell_type": "code",
      "metadata": {
        "id": "zRpFWGjPyTtP"
      },
      "source": [
        "def train(dataset, writer=None):\n",
        "    data_size = len(dataset)\n",
        "    loader = DataLoader(dataset[:int(data_size*0.8)], batch_size=64, shuffle=True)\n",
        "    test_loader = DataLoader(dataset[int(data_size*0.8):], batch_size=64, shuffle=True)\n",
        "    \n",
        "    # build model\n",
        "    model = GNNStack(max(dataset.num_node_features,1), 32, dataset.num_classes)\n",
        "    opt = optim.Adam(model.parameters(), lr=0.01)\n",
        "\n",
        "    # train\n",
        "    for epoch in range(200):\n",
        "        total_loss = 0\n",
        "        model.train()\n",
        "        for batch in loader:\n",
        "            opt.zero_grad()\n",
        "            embedding, pred = model(batch)\n",
        "            label = batch.y\n",
        "            \n",
        "            loss = F.nll_loss(pred, label)\n",
        "            # backpropagation 단계, autograd를 실행한다고 생각\n",
        "            loss.backward()\n",
        "            opt.step()\n",
        "            total_loss += loss.item() * batch.num_graphs\n",
        "        total_loss = total_loss / len(loader.dataset)\n",
        "        if writer != None:\n",
        "            writer.add_scalar('loss', total_loss, epoch)\n",
        "\n",
        "        if epoch % 10 == 0:\n",
        "            test_acc = test(test_loader, model)\n",
        "            print(f'[ Epoch {epoch} ] Loss :{total_loss:.4f}, Test accuracy : {test_acc:.4f}')\n",
        "            if writer != None:\n",
        "                writer.add_scalar('test accuracy', test_acc, epoch)\n",
        "    return model\n",
        "\n",
        "def test(loader, model, is_valid=False):\n",
        "    model.eval()\n",
        "\n",
        "    correct = 0\n",
        "    for data in loader:\n",
        "        with torch.no_grad():\n",
        "            emb, pred = model(data)\n",
        "            pred = pred.argmax(dim=1)\n",
        "            label = data.y\n",
        "        \n",
        "        correct += pred.eq(label).sum().item()\n",
        "\n",
        "    total = len(loader.dataset)\n",
        "    return correct / total"
      ],
      "execution_count": 49,
      "outputs": []
    },
    {
      "cell_type": "code",
      "metadata": {
        "colab": {
          "base_uri": "https://localhost:8080/"
        },
        "id": "vPaN3G1UzJ7B",
        "outputId": "84c76f92-6d53-414d-82ac-f6383fada6e6"
      },
      "source": [
        "dataset = TUDataset(root='./tmp/ENZYMES', name='ENZYMES')\n",
        "dataset = dataset.shuffle()"
      ],
      "execution_count": 41,
      "outputs": [
        {
          "output_type": "stream",
          "name": "stderr",
          "text": [
            "Downloading https://www.chrsmrrs.com/graphkerneldatasets/ENZYMES.zip\n",
            "Extracting tmp/ENZYMES/ENZYMES/ENZYMES.zip\n",
            "Processing...\n",
            "Done!\n"
          ]
        }
      ]
    },
    {
      "cell_type": "code",
      "metadata": {
        "colab": {
          "base_uri": "https://localhost:8080/"
        },
        "id": "O_xLYPgezOZ_",
        "outputId": "ea2dfef8-5ce6-4fe7-8708-982b7241f4b2"
      },
      "source": [
        "model = train(dataset)"
      ],
      "execution_count": 50,
      "outputs": [
        {
          "output_type": "stream",
          "name": "stdout",
          "text": [
            "[ Epoch 0 ] Loss :1.8258, Test accuracy : 0.2250\n",
            "[ Epoch 10 ] Loss :1.7815, Test accuracy : 0.2250\n",
            "[ Epoch 20 ] Loss :1.7558, Test accuracy : 0.1917\n",
            "[ Epoch 30 ] Loss :1.7432, Test accuracy : 0.2167\n",
            "[ Epoch 40 ] Loss :1.7480, Test accuracy : 0.1917\n",
            "[ Epoch 50 ] Loss :1.7444, Test accuracy : 0.2333\n",
            "[ Epoch 60 ] Loss :1.7563, Test accuracy : 0.1917\n",
            "[ Epoch 70 ] Loss :1.7417, Test accuracy : 0.2333\n",
            "[ Epoch 80 ] Loss :1.7571, Test accuracy : 0.2833\n",
            "[ Epoch 90 ] Loss :1.7417, Test accuracy : 0.2250\n",
            "[ Epoch 100 ] Loss :1.7264, Test accuracy : 0.2250\n",
            "[ Epoch 110 ] Loss :1.7220, Test accuracy : 0.2417\n",
            "[ Epoch 120 ] Loss :1.7281, Test accuracy : 0.3250\n",
            "[ Epoch 130 ] Loss :1.7298, Test accuracy : 0.2917\n",
            "[ Epoch 140 ] Loss :1.6961, Test accuracy : 0.2583\n",
            "[ Epoch 150 ] Loss :1.7126, Test accuracy : 0.3083\n",
            "[ Epoch 160 ] Loss :1.7180, Test accuracy : 0.3417\n",
            "[ Epoch 170 ] Loss :1.7229, Test accuracy : 0.2500\n",
            "[ Epoch 180 ] Loss :1.7032, Test accuracy : 0.2500\n",
            "[ Epoch 190 ] Loss :1.6979, Test accuracy : 0.2917\n"
          ]
        }
      ]
    }
  ]
}